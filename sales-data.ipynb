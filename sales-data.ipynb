{
 "cells": [
  {
   "cell_type": "markdown",
   "id": "bbd9d79f-41dd-48a7-8e4f-5177def4ad01",
   "metadata": {},
   "source": [
    "Module 6 Assignment: Analyzing Sales Data with Pandas"
   ]
  },
  {
   "cell_type": "markdown",
   "id": "e1509423-88fc-455a-92b1-4ce0c07eba69",
   "metadata": {},
   "source": [
    "Easy:"
   ]
  },
  {
   "cell_type": "markdown",
   "id": "d10915ae-ba1a-4178-9be1-83a7ba7e255a",
   "metadata": {},
   "source": [
    "1. How many unique customers are in the dataset?"
   ]
  },
  {
   "cell_type": "code",
   "execution_count": 1,
   "id": "16d98590-8af4-4c30-a63c-bf108900ead9",
   "metadata": {},
   "outputs": [
    {
     "name": "stdout",
     "output_type": "stream",
     "text": [
      "There are 5191 customers in the dataset.\n"
     ]
    }
   ],
   "source": [
    "import pandas as pd\n",
    "\n",
    "file = 'fct_invoice.csv'\n",
    "dataframe = pd.read_csv(file)\n",
    "unique_customers = dataframe['customer_id'].nunique()\n",
    "print(\"There are \" + str(unique_customers) + \" customers in the dataset.\")"
   ]
  },
  {
   "cell_type": "markdown",
   "id": "999f3f0a-646f-414c-af7b-ebde9042ae2f",
   "metadata": {},
   "source": [
    "2. What are the different categories of products available? How many unique categories are there?"
   ]
  },
  {
   "cell_type": "code",
   "execution_count": 2,
   "id": "b7527315-b49d-4fa5-82a4-a8297fc910d4",
   "metadata": {},
   "outputs": [
    {
     "name": "stdout",
     "output_type": "stream",
     "text": [
      "The categories of products available are as follows: Clothing, Shoes, Books, Cosmetics, Food & Beverage, Toys, Technology, Souvenir\n",
      "Therefore, there are 8 unique categories in the dataset.\n"
     ]
    }
   ],
   "source": [
    "#different categories of products\n",
    "\n",
    "import pandas as pd\n",
    "\n",
    "file = 'fct_invoice.csv'\n",
    "dataframe = pd.read_csv(file)\n",
    "prod_categories = dataframe['category'].unique()\n",
    "\n",
    "for category in prod_categories:\n",
    "    categories = ', '.join(prod_categories)\n",
    "\n",
    "print(\"The categories of products available are as follows: \" + categories)\n",
    "\n",
    "\n",
    "#unique categories\n",
    "\n",
    "num_categories = dataframe['category'].nunique()\n",
    "print(\"Therefore, there are \" + str(num_categories) +\" unique categories in the dataset.\")"
   ]
  },
  {
   "cell_type": "markdown",
   "id": "17dfa74d-cac9-4b78-b51a-5682a66928bd",
   "metadata": {},
   "source": [
    "3. Which payment method is the most popular? How many times was it used?"
   ]
  },
  {
   "cell_type": "code",
   "execution_count": 3,
   "id": "bae31fae-c2b9-4d5d-9974-d610ce0b4ac7",
   "metadata": {},
   "outputs": [
    {
     "name": "stdout",
     "output_type": "stream",
     "text": [
      "The most popular payment method is Cash.\n",
      "It was used 44447 times.\n"
     ]
    }
   ],
   "source": [
    "import pandas as pd\n",
    "\n",
    "file = 'fct_invoice.csv'\n",
    "dataframe = pd.read_csv(file)\n",
    "payment_counts = dataframe['payment_method'].value_counts()\n",
    "mostpop_payment = payment_counts.idxmax()\n",
    "print (\"The most popular payment method is \" + str(mostpop_payment) + \".\")\n",
    "       \n",
    "mostpop_count = len(dataframe[dataframe['payment_method'] == mostpop_payment])\n",
    "print (\"It was used \" + str(mostpop_count) + \" times.\")"
   ]
  },
  {
   "cell_type": "markdown",
   "id": "ff39cf0f-740e-4e83-8e5a-cc13b9138d94",
   "metadata": {},
   "source": [
    "Medium"
   ]
  },
  {
   "cell_type": "markdown",
   "id": "4f2765c2-84ce-4ad5-aae6-cbbb7b9e4574",
   "metadata": {},
   "source": [
    "1. What are the three most popular categories, by total sales?"
   ]
  },
  {
   "cell_type": "code",
   "execution_count": 4,
   "id": "659a5cba-37bd-4321-ba48-10762553b1b2",
   "metadata": {},
   "outputs": [
    {
     "name": "stdout",
     "output_type": "stream",
     "text": [
      "The three most popular categories by total sales are:\n",
      "category\n",
      "Clothing      1.139968e+08\n",
      "Shoes         6.655345e+07\n",
      "Technology    5.786235e+07\n",
      "Name: Total Sales, dtype: float64\n"
     ]
    }
   ],
   "source": [
    "import pandas as pd\n",
    "\n",
    "file = 'fct_invoice.csv'\n",
    "dataframe = pd.read_csv(file)\n",
    "dataframe['Total Sales'] = dataframe['quantity'] * dataframe['price']\n",
    "category_sales = dataframe.groupby('category')['Total Sales'].sum()\n",
    "top_categories = category_sales.nlargest(3)\n",
    "\n",
    "print(\"The three most popular categories by total sales are:\")\n",
    "print(top_categories)"
   ]
  },
  {
   "cell_type": "markdown",
   "id": "1c43cd2b-f9fb-4c78-b2d7-e798597e52bf",
   "metadata": {},
   "source": [
    "2. What are the total sales attributed to customers over the age of 45?"
   ]
  },
  {
   "cell_type": "code",
   "execution_count": 5,
   "id": "909aaf1e-db11-4015-9aa3-9b1912aab7c4",
   "metadata": {},
   "outputs": [
    {
     "name": "stdout",
     "output_type": "stream",
     "text": [
      "Total Sales for Customers over the Age of 45: 82039768.15\n"
     ]
    }
   ],
   "source": [
    "import pandas as pd\n",
    "\n",
    "file = 'fct_invoice.csv'\n",
    "file2 = 'dim_customer.json'\n",
    "dfcsv = pd.read_csv(file)\n",
    "dfjson = pd.read_json(file2)\n",
    "dfcsv['Total Sales'] = dfcsv['quantity'] * dfcsv['price']\n",
    "\n",
    "dfjson.rename(columns={\"id\":\"customer_id\"})\n",
    "merged_df = pd.merge(dfcsv,dfjson,left_on=\"customer_id\",right_on=\"id\")\n",
    "over_45 = merged_df.loc[merged_df['age']>45]\n",
    "total_sales = over_45.sum()['Total Sales']\n",
    "\n",
    "print(\"Total Sales for Customers over the Age of 45:\", total_sales)"
   ]
  },
  {
   "cell_type": "markdown",
   "id": "9cf2a4c2-d3c1-4d90-b6da-5d5c1255f7d3",
   "metadata": {},
   "source": [
    "3. How is the data distributed across different invoice dates? Are there any seasonal trends or patterns?"
   ]
  },
  {
   "cell_type": "code",
   "execution_count": 6,
   "id": "e57394b7-e858-4eb4-a8de-4c293dd336ae",
   "metadata": {},
   "outputs": [
    {
     "data": {
      "image/png": "[encoded data removed]",
      "text/plain": [
       "<Figure size 640x480 with 1 Axes>"
      ]
     },
     "metadata": {},
     "output_type": "display_data"
    }
   ],
   "source": [
    "import pandas as pd\n",
    "import matplotlib.pyplot as plt\n",
    "\n",
    "file = 'fct_invoice.csv'\n",
    "file2 = 'dim_customer.json'\n",
    "dfcsv = pd.read_csv(file)\n",
    "dfjson = pd.read_json(file2)\n",
    "\n",
    "merged_df = pd.merge(dfcsv,dfjson,left_on=\"customer_id\",right_on=\"id\")\n",
    "merged_df['invoice_date'] = pd.to_datetime(merged_df['invoice_date'], format='%d/%m/%Y')  # Convert to datetime\n",
    "merged_df['month'] = merged_df['invoice_date'].dt.month\n",
    "\n",
    "\n",
    "winter = merged_df.loc[(merged_df['month'] == 12) | (merged_df['month'] <= 2)].index\n",
    "merged_df.loc[winter, 'season'] = 'Winter'\n",
    "\n",
    "spring = merged_df.loc[(merged_df['month'] >= 3) & (merged_df['month'] <= 5)].index\n",
    "merged_df.loc[spring, 'season'] = 'Spring'\n",
    "\n",
    "summer = merged_df[(merged_df['month'] >= 6) & (merged_df['month'] <= 8)].index\n",
    "merged_df.loc[summer, 'season'] = 'Summer'\n",
    "\n",
    "fall = merged_df[(merged_df['month'] >= 9) & (merged_df['month'] <= 11)].index\n",
    "merged_df.loc[fall, 'season'] = 'Fall'\n",
    "\n",
    "season_counts = merged_df['season'].value_counts()\n",
    "\n",
    "plt.bar(season_counts.index, season_counts.values)\n",
    "plt.xlabel('Season')\n",
    "plt.ylabel('Count')\n",
    "plt.title('Distribution of Sales Across Seasons')\n",
    "plt.show()"
   ]
  },
  {
   "cell_type": "markdown",
   "id": "cfd42b5e-2308-4acb-985b-84f9f3bf5832",
   "metadata": {},
   "source": [
    "Graph Analysis:\n",
    "\n",
    "Among the four seasons, winter had the most invoices. This may be caused by the holidays that fall within the winter season or \"the season of gift-giving,\" like Christmas and New Year. Hence, people tend to buy more products during this period."
   ]
  },
  {
   "cell_type": "markdown",
   "id": "e6999700-7af1-4814-8a88-0477b79d8469",
   "metadata": {},
   "source": [
    "Hard"
   ]
  },
  {
   "cell_type": "markdown",
   "id": "d92b4ad0-e4a3-48db-aa6a-0fe91b1404cd",
   "metadata": {},
   "source": [
    "1. Create a pivot table showing the breakdown of sales across these dimensions, in this order: category, decade age range (e.g., 10-19, 20-29, and so forth)."
   ]
  },
  {
   "cell_type": "code",
   "execution_count": 3,
   "id": "4123a7fd-6eb0-4aa5-893a-f30dae1751d2",
   "metadata": {},
   "outputs": [
    {
     "data": {
      "text/html": [
       "<div>\n",
       "<style scoped>\n",
       "    .dataframe tbody tr th:only-of-type {\n",
       "        vertical-align: middle;\n",
       "    }\n",
       "\n",
       "    .dataframe tbody tr th {\n",
       "        vertical-align: top;\n",
       "    }\n",
       "\n",
       "    .dataframe thead th {\n",
       "        text-align: right;\n",
       "    }\n",
       "</style>\n",
       "<table border=\"1\" class=\"dataframe\">\n",
       "  <thead>\n",
       "    <tr style=\"text-align: right;\">\n",
       "      <th>age</th>\n",
       "      <th>[10, 20)</th>\n",
       "      <th>[20, 30)</th>\n",
       "      <th>[30, 40)</th>\n",
       "      <th>[40, 50)</th>\n",
       "      <th>[50, 60)</th>\n",
       "      <th>[60, 70)</th>\n",
       "      <th>[70, 80)</th>\n",
       "      <th>[80, 90)</th>\n",
       "      <th>[90, 100)</th>\n",
       "    </tr>\n",
       "    <tr>\n",
       "      <th>category</th>\n",
       "      <th></th>\n",
       "      <th></th>\n",
       "      <th></th>\n",
       "      <th></th>\n",
       "      <th></th>\n",
       "      <th></th>\n",
       "      <th></th>\n",
       "      <th></th>\n",
       "      <th></th>\n",
       "    </tr>\n",
       "  </thead>\n",
       "  <tbody>\n",
       "    <tr>\n",
       "      <th>Books</th>\n",
       "      <td>12801.75</td>\n",
       "      <td>79461.75</td>\n",
       "      <td>84143.10</td>\n",
       "      <td>87203.40</td>\n",
       "      <td>74962.20</td>\n",
       "      <td>80476.80</td>\n",
       "      <td>54827.85</td>\n",
       "      <td>26664.00</td>\n",
       "      <td>0.0</td>\n",
       "    </tr>\n",
       "    <tr>\n",
       "      <th>Clothing</th>\n",
       "      <td>1927413.84</td>\n",
       "      <td>10250732.80</td>\n",
       "      <td>11354126.96</td>\n",
       "      <td>11215189.92</td>\n",
       "      <td>10321851.76</td>\n",
       "      <td>10660642.08</td>\n",
       "      <td>7769371.28</td>\n",
       "      <td>4493698.00</td>\n",
       "      <td>0.0</td>\n",
       "    </tr>\n",
       "    <tr>\n",
       "      <th>Cosmetics</th>\n",
       "      <td>109619.36</td>\n",
       "      <td>605915.32</td>\n",
       "      <td>723544.70</td>\n",
       "      <td>665034.96</td>\n",
       "      <td>587780.96</td>\n",
       "      <td>649990.76</td>\n",
       "      <td>419082.62</td>\n",
       "      <td>254531.60</td>\n",
       "      <td>0.0</td>\n",
       "    </tr>\n",
       "    <tr>\n",
       "      <th>Food &amp; Beverage</th>\n",
       "      <td>13582.31</td>\n",
       "      <td>73491.96</td>\n",
       "      <td>87246.86</td>\n",
       "      <td>89553.29</td>\n",
       "      <td>72425.04</td>\n",
       "      <td>80976.09</td>\n",
       "      <td>55050.98</td>\n",
       "      <td>31332.93</td>\n",
       "      <td>0.0</td>\n",
       "    </tr>\n",
       "    <tr>\n",
       "      <th>Shoes</th>\n",
       "      <td>993281.35</td>\n",
       "      <td>5924878.24</td>\n",
       "      <td>7200839.66</td>\n",
       "      <td>7025590.02</td>\n",
       "      <td>5852857.84</td>\n",
       "      <td>5978893.54</td>\n",
       "      <td>4480269.05</td>\n",
       "      <td>2628744.60</td>\n",
       "      <td>0.0</td>\n",
       "    </tr>\n",
       "    <tr>\n",
       "      <th>Souvenir</th>\n",
       "      <td>12375.15</td>\n",
       "      <td>54943.32</td>\n",
       "      <td>64092.72</td>\n",
       "      <td>66391.80</td>\n",
       "      <td>54943.32</td>\n",
       "      <td>55025.43</td>\n",
       "      <td>38673.81</td>\n",
       "      <td>23718.06</td>\n",
       "      <td>0.0</td>\n",
       "    </tr>\n",
       "    <tr>\n",
       "      <th>Technology</th>\n",
       "      <td>1129800.00</td>\n",
       "      <td>5261550.00</td>\n",
       "      <td>6159300.00</td>\n",
       "      <td>5954550.00</td>\n",
       "      <td>4435200.00</td>\n",
       "      <td>5471550.00</td>\n",
       "      <td>3638250.00</td>\n",
       "      <td>1946700.00</td>\n",
       "      <td>0.0</td>\n",
       "    </tr>\n",
       "    <tr>\n",
       "      <th>Toys</th>\n",
       "      <td>60426.24</td>\n",
       "      <td>385100.80</td>\n",
       "      <td>420582.40</td>\n",
       "      <td>390906.88</td>\n",
       "      <td>345067.52</td>\n",
       "      <td>363955.20</td>\n",
       "      <td>273244.16</td>\n",
       "      <td>153932.80</td>\n",
       "      <td>0.0</td>\n",
       "    </tr>\n",
       "  </tbody>\n",
       "</table>\n",
       "</div>"
      ],
      "text/plain": [
       "age                [10, 20)     [20, 30)     [30, 40)     [40, 50)  \\\n",
       "category                                                             \n",
       "Books              12801.75     79461.75     84143.10     87203.40   \n",
       "Clothing         1927413.84  10250732.80  11354126.96  11215189.92   \n",
       "Cosmetics         109619.36    605915.32    723544.70    665034.96   \n",
       "Food & Beverage    13582.31     73491.96     87246.86     89553.29   \n",
       "Shoes             993281.35   5924878.24   7200839.66   7025590.02   \n",
       "Souvenir           12375.15     54943.32     64092.72     66391.80   \n",
       "Technology       1129800.00   5261550.00   6159300.00   5954550.00   \n",
       "Toys               60426.24    385100.80    420582.40    390906.88   \n",
       "\n",
       "age                 [50, 60)     [60, 70)    [70, 80)    [80, 90)  [90, 100)  \n",
       "category                                                                      \n",
       "Books               74962.20     80476.80    54827.85    26664.00        0.0  \n",
       "Clothing         10321851.76  10660642.08  7769371.28  4493698.00        0.0  \n",
       "Cosmetics          587780.96    649990.76   419082.62   254531.60        0.0  \n",
       "Food & Beverage     72425.04     80976.09    55050.98    31332.93        0.0  \n",
       "Shoes             5852857.84   5978893.54  4480269.05  2628744.60        0.0  \n",
       "Souvenir            54943.32     55025.43    38673.81    23718.06        0.0  \n",
       "Technology        4435200.00   5471550.00  3638250.00  1946700.00        0.0  \n",
       "Toys               345067.52    363955.20   273244.16   153932.80        0.0  "
      ]
     },
     "execution_count": 3,
     "metadata": {},
     "output_type": "execute_result"
    }
   ],
   "source": [
    "import pandas as pd\n",
    "\n",
    "file = 'fct_invoice.csv'\n",
    "file2 = 'dim_customer.json'\n",
    "dfcsv = pd.read_csv(file)\n",
    "dfjson = pd.read_json(file2)\n",
    "\n",
    "merged_df = pd.merge(dfcsv,dfjson,left_on=\"customer_id\",right_on=\"id\")\n",
    "total_sales = merged_df['quantity'] * merged_df['price']\n",
    "merged_df['total_sales'] = total_sales\n",
    "\n",
    "decades = pd.cut(merged_df['age'],bins=range(10, 101, 10),right=False)\n",
    "merged_df.pivot_table(index=\"category\",columns=decades,values=\"total_sales\",aggfunc=\"sum\")"
   ]
  },
  {
   "cell_type": "code",
   "execution_count": null,
   "id": "e1dae765-e3ed-4de8-aaaf-cb5f6f38dcb1",
   "metadata": {},
   "outputs": [],
   "source": []
  }
 ],
 "metadata": {
  "kernelspec": {
   "display_name": "Python 3 (ipykernel)",
   "language": "python",
   "name": "python3"
  },
  "language_info": {
   "codemirror_mode": {
    "name": "ipython",
    "version": 3
   },
   "file_extension": ".py",
   "mimetype": "text/x-python",
   "name": "python",
   "nbconvert_exporter": "python",
   "pygments_lexer": "ipython3",
   "version": "3.10.9"
  }
 },
 "nbformat": 4,
 "nbformat_minor": 5
}
